{
 "cells": [
  {
   "cell_type": "code",
   "execution_count": 3,
   "id": "711e3fba",
   "metadata": {},
   "outputs": [],
   "source": [
    "import pandas as pd"
   ]
  },
  {
   "cell_type": "code",
   "execution_count": 2,
   "id": "b7aafcdc",
   "metadata": {},
   "outputs": [],
   "source": [
    "path_to_csv = 'supermarket_sales.csv'"
   ]
  },
  {
   "cell_type": "code",
   "execution_count": 3,
   "id": "04242078",
   "metadata": {},
   "outputs": [],
   "source": [
    "supermarket = pd.read_csv(path_to_csv)"
   ]
  },
  {
   "cell_type": "code",
   "execution_count": 4,
   "id": "63a65c5d",
   "metadata": {},
   "outputs": [],
   "source": [
    "supermarket.columns = [column.lower().replace(\" \", \"_\") for column in supermarket.columns]\n"
   ]
  },
  {
   "cell_type": "code",
   "execution_count": 5,
   "id": "cf79afec",
   "metadata": {},
   "outputs": [
    {
     "data": {
      "text/html": [
       "<div>\n",
       "<style scoped>\n",
       "    .dataframe tbody tr th:only-of-type {\n",
       "        vertical-align: middle;\n",
       "    }\n",
       "\n",
       "    .dataframe tbody tr th {\n",
       "        vertical-align: top;\n",
       "    }\n",
       "\n",
       "    .dataframe thead th {\n",
       "        text-align: right;\n",
       "    }\n",
       "</style>\n",
       "<table border=\"1\" class=\"dataframe\">\n",
       "  <thead>\n",
       "    <tr style=\"text-align: right;\">\n",
       "      <th></th>\n",
       "      <th>invoice_id</th>\n",
       "      <th>branch</th>\n",
       "      <th>city</th>\n",
       "      <th>customer_type</th>\n",
       "      <th>gender</th>\n",
       "      <th>product_line</th>\n",
       "      <th>unit_price</th>\n",
       "      <th>quantity</th>\n",
       "      <th>tax_5%</th>\n",
       "      <th>total</th>\n",
       "      <th>date</th>\n",
       "      <th>time</th>\n",
       "      <th>payment</th>\n",
       "      <th>cogs</th>\n",
       "      <th>gross_margin_percentage</th>\n",
       "      <th>gross_income</th>\n",
       "      <th>rating</th>\n",
       "    </tr>\n",
       "  </thead>\n",
       "  <tbody>\n",
       "    <tr>\n",
       "      <th>0</th>\n",
       "      <td>750-67-8428</td>\n",
       "      <td>A</td>\n",
       "      <td>Yangon</td>\n",
       "      <td>Member</td>\n",
       "      <td>Female</td>\n",
       "      <td>Health and beauty</td>\n",
       "      <td>74.69</td>\n",
       "      <td>7</td>\n",
       "      <td>26.1415</td>\n",
       "      <td>548.9715</td>\n",
       "      <td>1/5/2019</td>\n",
       "      <td>13:08</td>\n",
       "      <td>Ewallet</td>\n",
       "      <td>522.83</td>\n",
       "      <td>4.761905</td>\n",
       "      <td>26.1415</td>\n",
       "      <td>9.1</td>\n",
       "    </tr>\n",
       "    <tr>\n",
       "      <th>1</th>\n",
       "      <td>226-31-3081</td>\n",
       "      <td>C</td>\n",
       "      <td>Naypyitaw</td>\n",
       "      <td>Normal</td>\n",
       "      <td>Female</td>\n",
       "      <td>Electronic accessories</td>\n",
       "      <td>15.28</td>\n",
       "      <td>5</td>\n",
       "      <td>3.8200</td>\n",
       "      <td>80.2200</td>\n",
       "      <td>3/8/2019</td>\n",
       "      <td>10:29</td>\n",
       "      <td>Cash</td>\n",
       "      <td>76.40</td>\n",
       "      <td>4.761905</td>\n",
       "      <td>3.8200</td>\n",
       "      <td>9.6</td>\n",
       "    </tr>\n",
       "    <tr>\n",
       "      <th>2</th>\n",
       "      <td>631-41-3108</td>\n",
       "      <td>A</td>\n",
       "      <td>Yangon</td>\n",
       "      <td>Normal</td>\n",
       "      <td>Male</td>\n",
       "      <td>Home and lifestyle</td>\n",
       "      <td>46.33</td>\n",
       "      <td>7</td>\n",
       "      <td>16.2155</td>\n",
       "      <td>340.5255</td>\n",
       "      <td>3/3/2019</td>\n",
       "      <td>13:23</td>\n",
       "      <td>Credit card</td>\n",
       "      <td>324.31</td>\n",
       "      <td>4.761905</td>\n",
       "      <td>16.2155</td>\n",
       "      <td>7.4</td>\n",
       "    </tr>\n",
       "    <tr>\n",
       "      <th>3</th>\n",
       "      <td>123-19-1176</td>\n",
       "      <td>A</td>\n",
       "      <td>Yangon</td>\n",
       "      <td>Member</td>\n",
       "      <td>Male</td>\n",
       "      <td>Health and beauty</td>\n",
       "      <td>58.22</td>\n",
       "      <td>8</td>\n",
       "      <td>23.2880</td>\n",
       "      <td>489.0480</td>\n",
       "      <td>1/27/2019</td>\n",
       "      <td>20:33</td>\n",
       "      <td>Ewallet</td>\n",
       "      <td>465.76</td>\n",
       "      <td>4.761905</td>\n",
       "      <td>23.2880</td>\n",
       "      <td>8.4</td>\n",
       "    </tr>\n",
       "    <tr>\n",
       "      <th>4</th>\n",
       "      <td>373-73-7910</td>\n",
       "      <td>A</td>\n",
       "      <td>Yangon</td>\n",
       "      <td>Normal</td>\n",
       "      <td>Male</td>\n",
       "      <td>Sports and travel</td>\n",
       "      <td>86.31</td>\n",
       "      <td>7</td>\n",
       "      <td>30.2085</td>\n",
       "      <td>634.3785</td>\n",
       "      <td>2/8/2019</td>\n",
       "      <td>10:37</td>\n",
       "      <td>Ewallet</td>\n",
       "      <td>604.17</td>\n",
       "      <td>4.761905</td>\n",
       "      <td>30.2085</td>\n",
       "      <td>5.3</td>\n",
       "    </tr>\n",
       "  </tbody>\n",
       "</table>\n",
       "</div>"
      ],
      "text/plain": [
       "    invoice_id branch       city customer_type  gender  \\\n",
       "0  750-67-8428      A     Yangon        Member  Female   \n",
       "1  226-31-3081      C  Naypyitaw        Normal  Female   \n",
       "2  631-41-3108      A     Yangon        Normal    Male   \n",
       "3  123-19-1176      A     Yangon        Member    Male   \n",
       "4  373-73-7910      A     Yangon        Normal    Male   \n",
       "\n",
       "             product_line  unit_price  quantity   tax_5%     total       date  \\\n",
       "0       Health and beauty       74.69         7  26.1415  548.9715   1/5/2019   \n",
       "1  Electronic accessories       15.28         5   3.8200   80.2200   3/8/2019   \n",
       "2      Home and lifestyle       46.33         7  16.2155  340.5255   3/3/2019   \n",
       "3       Health and beauty       58.22         8  23.2880  489.0480  1/27/2019   \n",
       "4       Sports and travel       86.31         7  30.2085  634.3785   2/8/2019   \n",
       "\n",
       "    time      payment    cogs  gross_margin_percentage  gross_income  rating  \n",
       "0  13:08      Ewallet  522.83                 4.761905       26.1415     9.1  \n",
       "1  10:29         Cash   76.40                 4.761905        3.8200     9.6  \n",
       "2  13:23  Credit card  324.31                 4.761905       16.2155     7.4  \n",
       "3  20:33      Ewallet  465.76                 4.761905       23.2880     8.4  \n",
       "4  10:37      Ewallet  604.17                 4.761905       30.2085     5.3  "
      ]
     },
     "execution_count": 5,
     "metadata": {},
     "output_type": "execute_result"
    }
   ],
   "source": [
    "supermarket.head()"
   ]
  },
  {
   "cell_type": "code",
   "execution_count": 6,
   "id": "830c3936",
   "metadata": {},
   "outputs": [
    {
     "data": {
      "text/plain": [
       "invoice_id                 1000\n",
       "branch                     1000\n",
       "city                       1000\n",
       "customer_type              1000\n",
       "gender                     1000\n",
       "product_line               1000\n",
       "unit_price                 1000\n",
       "quantity                   1000\n",
       "tax_5%                     1000\n",
       "total                      1000\n",
       "date                       1000\n",
       "time                       1000\n",
       "payment                    1000\n",
       "cogs                       1000\n",
       "gross_margin_percentage    1000\n",
       "gross_income               1000\n",
       "rating                     1000\n",
       "dtype: int64"
      ]
     },
     "execution_count": 6,
     "metadata": {},
     "output_type": "execute_result"
    }
   ],
   "source": [
    "supermarket.count()"
   ]
  },
  {
   "cell_type": "code",
   "execution_count": 7,
   "id": "25556d88",
   "metadata": {},
   "outputs": [],
   "source": [
    "supermarket = supermarket.rename(columns={'branch': 'branch_name'})"
   ]
  },
  {
   "cell_type": "markdown",
   "id": "f27e29f3",
   "metadata": {},
   "source": [
    "## TABLE INVOICE"
   ]
  },
  {
   "cell_type": "code",
   "execution_count": 8,
   "id": "6f394837",
   "metadata": {},
   "outputs": [],
   "source": [
    "invoice = supermarket [['invoice_id', 'date', 'time', 'quantity', 'total', 'payment','customer_type', 'product_line', 'branch_name', 'unit_price']]"
   ]
  },
  {
   "cell_type": "code",
   "execution_count": 9,
   "id": "dddaf31e",
   "metadata": {},
   "outputs": [],
   "source": [
    "invoice.to_csv('invoice.csv', index='customer_id')"
   ]
  },
  {
   "cell_type": "code",
   "execution_count": 10,
   "id": "d6489e19",
   "metadata": {},
   "outputs": [],
   "source": [
    "invoice = invoice.rename(columns={'Unnamed: 0': 'customer_id'})\n"
   ]
  },
  {
   "cell_type": "code",
   "execution_count": 14,
   "id": "a29faefb",
   "metadata": {},
   "outputs": [],
   "source": [
    "import pandas as pd\n",
    "\n",
    "\n",
    "invoice['customer_id'] = range(len(invoice))\n",
    "\n",
    "invoice.set_index('customer_id', inplace=True)\n"
   ]
  },
  {
   "cell_type": "code",
   "execution_count": 15,
   "id": "a3cad566",
   "metadata": {},
   "outputs": [
    {
     "data": {
      "text/html": [
       "<div>\n",
       "<style scoped>\n",
       "    .dataframe tbody tr th:only-of-type {\n",
       "        vertical-align: middle;\n",
       "    }\n",
       "\n",
       "    .dataframe tbody tr th {\n",
       "        vertical-align: top;\n",
       "    }\n",
       "\n",
       "    .dataframe thead th {\n",
       "        text-align: right;\n",
       "    }\n",
       "</style>\n",
       "<table border=\"1\" class=\"dataframe\">\n",
       "  <thead>\n",
       "    <tr style=\"text-align: right;\">\n",
       "      <th></th>\n",
       "      <th>invoice_id</th>\n",
       "      <th>date</th>\n",
       "      <th>time</th>\n",
       "      <th>quantity</th>\n",
       "      <th>total</th>\n",
       "      <th>payment</th>\n",
       "      <th>customer_type</th>\n",
       "      <th>product_line</th>\n",
       "      <th>branch_name</th>\n",
       "      <th>unit_price</th>\n",
       "    </tr>\n",
       "    <tr>\n",
       "      <th>customer_id</th>\n",
       "      <th></th>\n",
       "      <th></th>\n",
       "      <th></th>\n",
       "      <th></th>\n",
       "      <th></th>\n",
       "      <th></th>\n",
       "      <th></th>\n",
       "      <th></th>\n",
       "      <th></th>\n",
       "      <th></th>\n",
       "    </tr>\n",
       "  </thead>\n",
       "  <tbody>\n",
       "    <tr>\n",
       "      <th>0</th>\n",
       "      <td>750-67-8428</td>\n",
       "      <td>1/5/2019</td>\n",
       "      <td>13:08</td>\n",
       "      <td>7</td>\n",
       "      <td>548.9715</td>\n",
       "      <td>Ewallet</td>\n",
       "      <td>Member</td>\n",
       "      <td>Health and beauty</td>\n",
       "      <td>A</td>\n",
       "      <td>74.69</td>\n",
       "    </tr>\n",
       "    <tr>\n",
       "      <th>1</th>\n",
       "      <td>226-31-3081</td>\n",
       "      <td>3/8/2019</td>\n",
       "      <td>10:29</td>\n",
       "      <td>5</td>\n",
       "      <td>80.2200</td>\n",
       "      <td>Cash</td>\n",
       "      <td>Normal</td>\n",
       "      <td>Electronic accessories</td>\n",
       "      <td>C</td>\n",
       "      <td>15.28</td>\n",
       "    </tr>\n",
       "    <tr>\n",
       "      <th>2</th>\n",
       "      <td>631-41-3108</td>\n",
       "      <td>3/3/2019</td>\n",
       "      <td>13:23</td>\n",
       "      <td>7</td>\n",
       "      <td>340.5255</td>\n",
       "      <td>Credit card</td>\n",
       "      <td>Normal</td>\n",
       "      <td>Home and lifestyle</td>\n",
       "      <td>A</td>\n",
       "      <td>46.33</td>\n",
       "    </tr>\n",
       "    <tr>\n",
       "      <th>3</th>\n",
       "      <td>123-19-1176</td>\n",
       "      <td>1/27/2019</td>\n",
       "      <td>20:33</td>\n",
       "      <td>8</td>\n",
       "      <td>489.0480</td>\n",
       "      <td>Ewallet</td>\n",
       "      <td>Member</td>\n",
       "      <td>Health and beauty</td>\n",
       "      <td>A</td>\n",
       "      <td>58.22</td>\n",
       "    </tr>\n",
       "    <tr>\n",
       "      <th>4</th>\n",
       "      <td>373-73-7910</td>\n",
       "      <td>2/8/2019</td>\n",
       "      <td>10:37</td>\n",
       "      <td>7</td>\n",
       "      <td>634.3785</td>\n",
       "      <td>Ewallet</td>\n",
       "      <td>Normal</td>\n",
       "      <td>Sports and travel</td>\n",
       "      <td>A</td>\n",
       "      <td>86.31</td>\n",
       "    </tr>\n",
       "    <tr>\n",
       "      <th>...</th>\n",
       "      <td>...</td>\n",
       "      <td>...</td>\n",
       "      <td>...</td>\n",
       "      <td>...</td>\n",
       "      <td>...</td>\n",
       "      <td>...</td>\n",
       "      <td>...</td>\n",
       "      <td>...</td>\n",
       "      <td>...</td>\n",
       "      <td>...</td>\n",
       "    </tr>\n",
       "    <tr>\n",
       "      <th>995</th>\n",
       "      <td>233-67-5758</td>\n",
       "      <td>1/29/2019</td>\n",
       "      <td>13:46</td>\n",
       "      <td>1</td>\n",
       "      <td>42.3675</td>\n",
       "      <td>Ewallet</td>\n",
       "      <td>Normal</td>\n",
       "      <td>Health and beauty</td>\n",
       "      <td>C</td>\n",
       "      <td>40.35</td>\n",
       "    </tr>\n",
       "    <tr>\n",
       "      <th>996</th>\n",
       "      <td>303-96-2227</td>\n",
       "      <td>3/2/2019</td>\n",
       "      <td>17:16</td>\n",
       "      <td>10</td>\n",
       "      <td>1022.4900</td>\n",
       "      <td>Ewallet</td>\n",
       "      <td>Normal</td>\n",
       "      <td>Home and lifestyle</td>\n",
       "      <td>B</td>\n",
       "      <td>97.38</td>\n",
       "    </tr>\n",
       "    <tr>\n",
       "      <th>997</th>\n",
       "      <td>727-02-1313</td>\n",
       "      <td>2/9/2019</td>\n",
       "      <td>13:22</td>\n",
       "      <td>1</td>\n",
       "      <td>33.4320</td>\n",
       "      <td>Cash</td>\n",
       "      <td>Member</td>\n",
       "      <td>Food and beverages</td>\n",
       "      <td>A</td>\n",
       "      <td>31.84</td>\n",
       "    </tr>\n",
       "    <tr>\n",
       "      <th>998</th>\n",
       "      <td>347-56-2442</td>\n",
       "      <td>2/22/2019</td>\n",
       "      <td>15:33</td>\n",
       "      <td>1</td>\n",
       "      <td>69.1110</td>\n",
       "      <td>Cash</td>\n",
       "      <td>Normal</td>\n",
       "      <td>Home and lifestyle</td>\n",
       "      <td>A</td>\n",
       "      <td>65.82</td>\n",
       "    </tr>\n",
       "    <tr>\n",
       "      <th>999</th>\n",
       "      <td>849-09-3807</td>\n",
       "      <td>2/18/2019</td>\n",
       "      <td>13:28</td>\n",
       "      <td>7</td>\n",
       "      <td>649.2990</td>\n",
       "      <td>Cash</td>\n",
       "      <td>Member</td>\n",
       "      <td>Fashion accessories</td>\n",
       "      <td>A</td>\n",
       "      <td>88.34</td>\n",
       "    </tr>\n",
       "  </tbody>\n",
       "</table>\n",
       "<p>1000 rows × 10 columns</p>\n",
       "</div>"
      ],
      "text/plain": [
       "              invoice_id       date   time  quantity      total      payment  \\\n",
       "customer_id                                                                    \n",
       "0            750-67-8428   1/5/2019  13:08         7   548.9715      Ewallet   \n",
       "1            226-31-3081   3/8/2019  10:29         5    80.2200         Cash   \n",
       "2            631-41-3108   3/3/2019  13:23         7   340.5255  Credit card   \n",
       "3            123-19-1176  1/27/2019  20:33         8   489.0480      Ewallet   \n",
       "4            373-73-7910   2/8/2019  10:37         7   634.3785      Ewallet   \n",
       "...                  ...        ...    ...       ...        ...          ...   \n",
       "995          233-67-5758  1/29/2019  13:46         1    42.3675      Ewallet   \n",
       "996          303-96-2227   3/2/2019  17:16        10  1022.4900      Ewallet   \n",
       "997          727-02-1313   2/9/2019  13:22         1    33.4320         Cash   \n",
       "998          347-56-2442  2/22/2019  15:33         1    69.1110         Cash   \n",
       "999          849-09-3807  2/18/2019  13:28         7   649.2990         Cash   \n",
       "\n",
       "            customer_type            product_line branch_name  unit_price  \n",
       "customer_id                                                                \n",
       "0                  Member       Health and beauty           A       74.69  \n",
       "1                  Normal  Electronic accessories           C       15.28  \n",
       "2                  Normal      Home and lifestyle           A       46.33  \n",
       "3                  Member       Health and beauty           A       58.22  \n",
       "4                  Normal       Sports and travel           A       86.31  \n",
       "...                   ...                     ...         ...         ...  \n",
       "995                Normal       Health and beauty           C       40.35  \n",
       "996                Normal      Home and lifestyle           B       97.38  \n",
       "997                Member      Food and beverages           A       31.84  \n",
       "998                Normal      Home and lifestyle           A       65.82  \n",
       "999                Member     Fashion accessories           A       88.34  \n",
       "\n",
       "[1000 rows x 10 columns]"
      ]
     },
     "execution_count": 15,
     "metadata": {},
     "output_type": "execute_result"
    }
   ],
   "source": [
    "invoice"
   ]
  },
  {
   "cell_type": "code",
   "execution_count": 16,
   "id": "1228a9b1",
   "metadata": {},
   "outputs": [],
   "source": [
    "invoice.to_csv('invoice.csv')"
   ]
  },
  {
   "cell_type": "markdown",
   "id": "2fabfb12",
   "metadata": {},
   "source": [
    "## INVOICE DETAILS "
   ]
  },
  {
   "cell_type": "code",
   "execution_count": null,
   "id": "1c4c047b",
   "metadata": {},
   "outputs": [],
   "source": [
    "invoice_details = supermarket [['gross_margin_percentage','gross_income', 'cogs', 'unit_price', 'tax_5%','rating', 'invoice_id', 'product_line']]"
   ]
  },
  {
   "cell_type": "code",
   "execution_count": null,
   "id": "24ea78d7",
   "metadata": {},
   "outputs": [],
   "source": [
    "invoice_details"
   ]
  },
  {
   "cell_type": "code",
   "execution_count": null,
   "id": "57341150",
   "metadata": {},
   "outputs": [],
   "source": [
    "invoice_details.index.name = 'invoice_details_id'"
   ]
  },
  {
   "cell_type": "code",
   "execution_count": null,
   "id": "85a1adfa",
   "metadata": {},
   "outputs": [],
   "source": [
    "invoice_details = invoice_details.rename(columns={'Unnamed: 0': 'invoice_details_id'})\n"
   ]
  },
  {
   "cell_type": "code",
   "execution_count": null,
   "id": "080d4f48",
   "metadata": {},
   "outputs": [],
   "source": [
    "invoice_details.to_csv('invoice_details.csv')"
   ]
  },
  {
   "cell_type": "code",
   "execution_count": null,
   "id": "ff77c827",
   "metadata": {},
   "outputs": [],
   "source": [
    "invoice_details"
   ]
  },
  {
   "cell_type": "code",
   "execution_count": null,
   "id": "d3e618b5",
   "metadata": {},
   "outputs": [],
   "source": []
  },
  {
   "cell_type": "markdown",
   "id": "a8f0180d",
   "metadata": {},
   "source": [
    "## TABELA BRANCH"
   ]
  },
  {
   "cell_type": "code",
   "execution_count": null,
   "id": "746f4b0c",
   "metadata": {},
   "outputs": [],
   "source": [
    "import pandas as pd\n",
    "\n",
    "path_to_csv = 'branch.csv'\n",
    "\n",
    "branch = pd.read_csv(path_to_csv)\n",
    "branch.columns = [column.lower().replace(\" \", \"_\") for column in branch.columns]\n",
    "\n",
    "branch.head()\n"
   ]
  },
  {
   "cell_type": "code",
   "execution_count": null,
   "id": "2b57f74a",
   "metadata": {},
   "outputs": [],
   "source": [
    "branch = branch.rename(columns={'Unnamed: 0': 'branch_id', 'branch': 'branch_name'})\n"
   ]
  },
  {
   "cell_type": "code",
   "execution_count": null,
   "id": "51a2b4f8",
   "metadata": {},
   "outputs": [],
   "source": [
    "branch.head()"
   ]
  },
  {
   "cell_type": "code",
   "execution_count": null,
   "id": "5db24514",
   "metadata": {},
   "outputs": [],
   "source": [
    "path_to_csv = 'branch.csv'"
   ]
  },
  {
   "cell_type": "code",
   "execution_count": null,
   "id": "e6e6c517",
   "metadata": {},
   "outputs": [],
   "source": [
    "branch.to_csv('branch.csv', index=False)"
   ]
  },
  {
   "cell_type": "markdown",
   "id": "530d2a70",
   "metadata": {},
   "source": [
    "## TABLE CUSTOMER "
   ]
  },
  {
   "cell_type": "code",
   "execution_count": null,
   "id": "011fb1f8",
   "metadata": {},
   "outputs": [],
   "source": [
    "import pandas as pd\n",
    "\n",
    "path_to_csv = 'customer.csv'\n",
    "\n",
    "customer = pd.read_csv(path_to_csv)\n",
    "customer.columns = [column.lower().replace(\" \", \"_\") for column in customer.columns]\n",
    "\n",
    "customer.head()"
   ]
  },
  {
   "cell_type": "code",
   "execution_count": null,
   "id": "3ff49dfa",
   "metadata": {},
   "outputs": [],
   "source": [
    "customer = customer.rename(columns={'unnamed:_0': 'customer_id'})\n"
   ]
  },
  {
   "cell_type": "code",
   "execution_count": null,
   "id": "365d9edf",
   "metadata": {},
   "outputs": [],
   "source": [
    "customer.head()"
   ]
  },
  {
   "cell_type": "code",
   "execution_count": null,
   "id": "6d0bb91b",
   "metadata": {},
   "outputs": [],
   "source": [
    "customer.to_csv('customer.csv', index=False)"
   ]
  },
  {
   "cell_type": "markdown",
   "id": "2a75eaa6",
   "metadata": {},
   "source": [
    "## TABLE PRODUCTS"
   ]
  },
  {
   "cell_type": "code",
   "execution_count": null,
   "id": "7dcd8e73",
   "metadata": {},
   "outputs": [],
   "source": [
    "import pandas as pd\n",
    "\n",
    "path_to_csv = 'products.csv'\n",
    "\n",
    "products = pd.read_csv(path_to_csv)\n",
    "products.columns = [column.lower().replace(\" \", \"_\") for column in products.columns]\n",
    "\n",
    "products.head()"
   ]
  },
  {
   "cell_type": "code",
   "execution_count": null,
   "id": "cff1e0ce",
   "metadata": {},
   "outputs": [],
   "source": [
    "products = products.rename(columns={'Unnamed: 0': 'product_id'})\n"
   ]
  },
  {
   "cell_type": "code",
   "execution_count": null,
   "id": "5c3fa681",
   "metadata": {},
   "outputs": [],
   "source": [
    "products.head()"
   ]
  },
  {
   "cell_type": "code",
   "execution_count": null,
   "id": "2f32d289",
   "metadata": {},
   "outputs": [],
   "source": [
    "products.to_csv('products.csv', index=False)"
   ]
  },
  {
   "cell_type": "code",
   "execution_count": null,
   "id": "48985b66",
   "metadata": {},
   "outputs": [],
   "source": []
  },
  {
   "cell_type": "code",
   "execution_count": null,
   "id": "eeb350da",
   "metadata": {},
   "outputs": [],
   "source": []
  },
  {
   "cell_type": "code",
   "execution_count": null,
   "id": "bf8716ee",
   "metadata": {},
   "outputs": [],
   "source": []
  },
  {
   "cell_type": "markdown",
   "id": "bb2ccfb0",
   "metadata": {},
   "source": [
    "## TABLE INVOICE"
   ]
  },
  {
   "cell_type": "code",
   "execution_count": null,
   "id": "92a33e1f",
   "metadata": {},
   "outputs": [],
   "source": [
    "import pandas as pd\n",
    "\n",
    "path_to_csv = 'invoice.csv'\n",
    "\n",
    "invoice = pd.read_csv(path_to_csv)\n",
    "invoice.columns = [column.lower().replace(\" \", \"_\") for column in invoice.columns]\n",
    "\n",
    "invoice.head()"
   ]
  },
  {
   "cell_type": "code",
   "execution_count": null,
   "id": "ba4131d6",
   "metadata": {},
   "outputs": [],
   "source": [
    "invoice = invoice.rename(columns={'Unnamed: 0': 'Invoice_id'})\n"
   ]
  },
  {
   "cell_type": "code",
   "execution_count": null,
   "id": "2b13e17f",
   "metadata": {},
   "outputs": [],
   "source": [
    "invoice.head()"
   ]
  },
  {
   "cell_type": "code",
   "execution_count": null,
   "id": "5dc826dd",
   "metadata": {},
   "outputs": [],
   "source": [
    "invoice.to_csv('invoice.csv', index=False)"
   ]
  },
  {
   "cell_type": "code",
   "execution_count": null,
   "id": "4392611f",
   "metadata": {},
   "outputs": [],
   "source": [
    "invoice = invoice [['invoice_id', 'Date', 'Time', 'Quantity', 'Total', 'Payment']]"
   ]
  },
  {
   "cell_type": "markdown",
   "id": "6a7f1147",
   "metadata": {},
   "source": [
    "# PLOTS"
   ]
  },
  {
   "cell_type": "code",
   "execution_count": 1,
   "id": "69c1da8f",
   "metadata": {},
   "outputs": [],
   "source": [
    "path_to_csv2 = \"/Users/sergiopizzolante/Desktop/Ironhack/Week4/GroupProject/amount_per_gender.csv\""
   ]
  },
  {
   "cell_type": "code",
   "execution_count": 4,
   "id": "8c82dfe4",
   "metadata": {},
   "outputs": [],
   "source": [
    "spending_per_gender = pd.read_csv(path_to_csv2)"
   ]
  },
  {
   "cell_type": "code",
   "execution_count": 15,
   "id": "30a5d47a",
   "metadata": {},
   "outputs": [
    {
     "data": {
      "image/png": "[encoded data removed]",
      "text/plain": [
       "<Figure size 1000x600 with 1 Axes>"
      ]
     },
     "metadata": {},
     "output_type": "display_data"
    }
   ],
   "source": [
    "import matplotlib.pyplot as plt\n",
    "import pandas as pd\n",
    "\n",
    "# Assuming that the uploaded file is an image showing a table with gender and corresponding totals.\n",
    "# Since we can't process the image directly to extract data, let's create a DataFrame with example data based on the image provided by the user.\n",
    "data = {\n",
    "    'gender': ['Female', 'Male'],\n",
    "    'TotalPerGender': [167882.92, 155083.82]\n",
    "}\n",
    "\n",
    "df = pd.DataFrame(data)\n",
    "\n",
    "# Divide the 'TotalPerGender' values by 1000 to show in thousands\n",
    "df['TotalPerGender'] /= 1000\n",
    "\n",
    "# Create a bar chart\n",
    "plt.figure(figsize=(10, 6))\n",
    "plt.bar(df['gender'], df['TotalPerGender'], color=['pink', 'lightblue'])\n",
    "plt.title('Total per Gender')\n",
    "plt.xlabel('Gender')\n",
    "plt.ylabel('Total (in thousands)')\n",
    "plt.xticks(rotation=45)\n",
    "plt.tight_layout()\n",
    "\n",
    "# Save the plot as a .png file\n",
    "output_file = '/mnt/data/bar_chart.png'\n",
    "#plt.savefig(output_file)\n",
    "\n",
    "plt.show()\n"
   ]
  },
  {
   "cell_type": "code",
   "execution_count": 8,
   "id": "67b6949b",
   "metadata": {},
   "outputs": [],
   "source": [
    "path_to_csv3 = \"/Users/sergiopizzolante/Desktop/Ironhack/Week4/GroupProject/pl_for_female.csv\""
   ]
  },
  {
   "cell_type": "code",
   "execution_count": 9,
   "id": "d7e0d740",
   "metadata": {},
   "outputs": [],
   "source": [
    "female_spending = pd.read_csv(path_to_csv3)"
   ]
  },
  {
   "cell_type": "code",
   "execution_count": 10,
   "id": "913580aa",
   "metadata": {},
   "outputs": [
    {
     "data": {
      "text/html": [
       "<div>\n",
       "<style scoped>\n",
       "    .dataframe tbody tr th:only-of-type {\n",
       "        vertical-align: middle;\n",
       "    }\n",
       "\n",
       "    .dataframe tbody tr th {\n",
       "        vertical-align: top;\n",
       "    }\n",
       "\n",
       "    .dataframe thead th {\n",
       "        text-align: right;\n",
       "    }\n",
       "</style>\n",
       "<table border=\"1\" class=\"dataframe\">\n",
       "  <thead>\n",
       "    <tr style=\"text-align: right;\">\n",
       "      <th></th>\n",
       "      <th>product_line</th>\n",
       "      <th>TotalPerProduct</th>\n",
       "    </tr>\n",
       "  </thead>\n",
       "  <tbody>\n",
       "    <tr>\n",
       "      <th>0</th>\n",
       "      <td>Health and beauty</td>\n",
       "      <td>18560.99</td>\n",
       "    </tr>\n",
       "    <tr>\n",
       "      <th>1</th>\n",
       "      <td>Electronic accessories</td>\n",
       "      <td>27102.02</td>\n",
       "    </tr>\n",
       "    <tr>\n",
       "      <th>2</th>\n",
       "      <td>Home and lifestyle</td>\n",
       "      <td>30036.88</td>\n",
       "    </tr>\n",
       "    <tr>\n",
       "      <th>3</th>\n",
       "      <td>Food and beverages</td>\n",
       "      <td>33170.92</td>\n",
       "    </tr>\n",
       "    <tr>\n",
       "      <th>4</th>\n",
       "      <td>Fashion accessories</td>\n",
       "      <td>30437.40</td>\n",
       "    </tr>\n",
       "    <tr>\n",
       "      <th>5</th>\n",
       "      <td>Sports and travel</td>\n",
       "      <td>28574.72</td>\n",
       "    </tr>\n",
       "  </tbody>\n",
       "</table>\n",
       "</div>"
      ],
      "text/plain": [
       "             product_line  TotalPerProduct\n",
       "0       Health and beauty         18560.99\n",
       "1  Electronic accessories         27102.02\n",
       "2      Home and lifestyle         30036.88\n",
       "3      Food and beverages         33170.92\n",
       "4     Fashion accessories         30437.40\n",
       "5       Sports and travel         28574.72"
      ]
     },
     "metadata": {},
     "output_type": "display_data"
    }
   ],
   "source": [
    "display(female_spending)"
   ]
  },
  {
   "cell_type": "code",
   "execution_count": 25,
   "id": "c7e5c0d5",
   "metadata": {},
   "outputs": [
    {
     "data": {
      "image/png": "[encoded data removed]",
      "text/plain": [
       "<Figure size 1000x600 with 1 Axes>"
      ]
     },
     "metadata": {},
     "output_type": "display_data"
    }
   ],
   "source": [
    "import matplotlib.pyplot as plt\n",
    "import pandas as pd\n",
    "\n",
    "# Assuming 'df' is your DataFrame\n",
    "data = {\n",
    "    'product_line': ['Health and beauty', 'Electronic accessories', 'Home and lifestyle', 'Food and beverages', 'Fashion accessories', 'Sports and travel'],\n",
    "    'TotalPerProduct': [18560.99, 27102.02, 30036.88, 33170.92, 30437.40, 28574.72]\n",
    "}\n",
    "\n",
    "df = pd.DataFrame(data)\n",
    "\n",
    "# Sort the DataFrame by 'TotalPerProduct' in descending order\n",
    "df = df.sort_values(by='TotalPerProduct', ascending=False)\n",
    "\n",
    "# Divide the 'TotalPerProduct' values by 1000 to show in thousands\n",
    "df['TotalPerProduct'] /= 1000\n",
    "\n",
    "# Create a bar plot\n",
    "plt.figure(figsize=(10, 6))\n",
    "bars = plt.bar(df['product_line'], df['TotalPerProduct'], color='pink')\n",
    "plt.title('Total Sales per Product Line For Females')\n",
    "plt.xlabel('Product Line')\n",
    "plt.ylabel('Total Sales (in thousands)')\n",
    "plt.xticks(rotation=45)\n",
    "plt.tight_layout()\n",
    "\n",
    "# Annotate each bar with its value\n",
    "for bar in bars:\n",
    "    height = bar.get_height()\n",
    "    plt.text(bar.get_x() + bar.get_width() / 2, height, f'{height:.2f}', ha='center', va='bottom')\n",
    "\n",
    "# Show plot\n",
    "plt.show()\n"
   ]
  },
  {
   "cell_type": "code",
   "execution_count": 11,
   "id": "5274269c",
   "metadata": {},
   "outputs": [],
   "source": [
    "path_to_csv4 = \"/Users/sergiopizzolante/Desktop/Ironhack/Week4/GroupProject/pl_for_male.csv\""
   ]
  },
  {
   "cell_type": "code",
   "execution_count": 12,
   "id": "4365e14a",
   "metadata": {},
   "outputs": [],
   "source": [
    "male_spending = pd.read_csv(path_to_csv4)"
   ]
  },
  {
   "cell_type": "code",
   "execution_count": 13,
   "id": "07bceab8",
   "metadata": {},
   "outputs": [
    {
     "data": {
      "text/html": [
       "<div>\n",
       "<style scoped>\n",
       "    .dataframe tbody tr th:only-of-type {\n",
       "        vertical-align: middle;\n",
       "    }\n",
       "\n",
       "    .dataframe tbody tr th {\n",
       "        vertical-align: top;\n",
       "    }\n",
       "\n",
       "    .dataframe thead th {\n",
       "        text-align: right;\n",
       "    }\n",
       "</style>\n",
       "<table border=\"1\" class=\"dataframe\">\n",
       "  <thead>\n",
       "    <tr style=\"text-align: right;\">\n",
       "      <th></th>\n",
       "      <th>product_line</th>\n",
       "      <th>TotalPerProduct</th>\n",
       "    </tr>\n",
       "  </thead>\n",
       "  <tbody>\n",
       "    <tr>\n",
       "      <th>0</th>\n",
       "      <td>Home and lifestyle</td>\n",
       "      <td>23825.04</td>\n",
       "    </tr>\n",
       "    <tr>\n",
       "      <th>1</th>\n",
       "      <td>Health and beauty</td>\n",
       "      <td>30632.75</td>\n",
       "    </tr>\n",
       "    <tr>\n",
       "      <th>2</th>\n",
       "      <td>Sports and travel</td>\n",
       "      <td>26548.11</td>\n",
       "    </tr>\n",
       "    <tr>\n",
       "      <th>3</th>\n",
       "      <td>Electronic accessories</td>\n",
       "      <td>27235.51</td>\n",
       "    </tr>\n",
       "    <tr>\n",
       "      <th>4</th>\n",
       "      <td>Food and beverages</td>\n",
       "      <td>22973.93</td>\n",
       "    </tr>\n",
       "    <tr>\n",
       "      <th>5</th>\n",
       "      <td>Fashion accessories</td>\n",
       "      <td>23868.50</td>\n",
       "    </tr>\n",
       "  </tbody>\n",
       "</table>\n",
       "</div>"
      ],
      "text/plain": [
       "             product_line  TotalPerProduct\n",
       "0      Home and lifestyle         23825.04\n",
       "1       Health and beauty         30632.75\n",
       "2       Sports and travel         26548.11\n",
       "3  Electronic accessories         27235.51\n",
       "4      Food and beverages         22973.93\n",
       "5     Fashion accessories         23868.50"
      ]
     },
     "metadata": {},
     "output_type": "display_data"
    }
   ],
   "source": [
    "display(male_spending)"
   ]
  },
  {
   "cell_type": "code",
   "execution_count": 27,
   "id": "b4e77fb8",
   "metadata": {},
   "outputs": [
    {
     "data": {
      "image/png": "[encoded data removed]",
      "text/plain": [
       "<Figure size 1000x600 with 1 Axes>"
      ]
     },
     "metadata": {},
     "output_type": "display_data"
    }
   ],
   "source": [
    "import matplotlib.pyplot as plt\n",
    "import pandas as pd\n",
    "\n",
    "# Assuming 'df' is your DataFrame\n",
    "data = {\n",
    "    'product_line': ['Home and lifestyle', 'Health and beauty', 'Sports and travel', 'Electronic accessories', 'Food and beverages', 'Fashion accessories'],\n",
    "    'TotalPerProduct': [23825.04, 30632.75, 26548.11, 27235.51, 22973.93, 23868.50]\n",
    "}\n",
    "\n",
    "df = pd.DataFrame(data)\n",
    "\n",
    "# Sort the DataFrame by 'TotalPerProduct' in descending order\n",
    "df = df.sort_values(by='TotalPerProduct', ascending=False)\n",
    "\n",
    "# Divide the 'TotalPerProduct' values by 1000 to show in thousands\n",
    "df['TotalPerProduct'] /= 1000\n",
    "\n",
    "# Create a bar plot\n",
    "plt.figure(figsize=(10, 6))\n",
    "bars = plt.bar(df['product_line'], df['TotalPerProduct'], color='skyblue')\n",
    "plt.title('Total Sales per Product Line For Males')\n",
    "plt.xlabel('Product Line')\n",
    "plt.ylabel('Total Sales (in thousands)')\n",
    "plt.xticks(rotation=45)\n",
    "plt.tight_layout()\n",
    "\n",
    "# Annotate each bar with its value\n",
    "for bar in bars:\n",
    "    height = bar.get_height()\n",
    "    plt.text(bar.get_x() + bar.get_width() / 2, height, f'{height:.2f}', ha='center', va='bottom')\n",
    "\n",
    "# Show plot\n",
    "plt.show()\n"
   ]
  },
  {
   "cell_type": "code",
   "execution_count": null,
   "id": "7550aa00",
   "metadata": {},
   "outputs": [],
   "source": []
  },
  {
   "cell_type": "code",
   "execution_count": null,
   "id": "b3e3f782",
   "metadata": {},
   "outputs": [],
   "source": []
  }
 ],
 "metadata": {
  "kernelspec": {
   "display_name": "Python 3 (ipykernel)",
   "language": "python",
   "name": "python3"
  },
  "language_info": {
   "codemirror_mode": {
    "name": "ipython",
    "version": 3
   },
   "file_extension": ".py",
   "mimetype": "text/x-python",
   "name": "python",
   "nbconvert_exporter": "python",
   "pygments_lexer": "ipython3",
   "version": "3.11.5"
  }
 },
 "nbformat": 4,
 "nbformat_minor": 5
}
